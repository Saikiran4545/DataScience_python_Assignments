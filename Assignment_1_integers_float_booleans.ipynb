{
  "nbformat": 4,
  "nbformat_minor": 0,
  "metadata": {
    "colab": {
      "provenance": [],
      "authorship_tag": "ABX9TyO2edO+3Tr3la0xwpNiPyyj",
      "include_colab_link": true
    },
    "kernelspec": {
      "name": "python3",
      "display_name": "Python 3"
    },
    "language_info": {
      "name": "python"
    }
  },
  "cells": [
    {
      "cell_type": "markdown",
      "metadata": {
        "id": "view-in-github",
        "colab_type": "text"
      },
      "source": [
        "<a href=\"https://colab.research.google.com/github/Saikiran4545/DataScience_python_Assignments/blob/main/Assignment_1_integers_float_booleans.ipynb\" target=\"_parent\"><img src=\"https://colab.research.google.com/assets/colab-badge.svg\" alt=\"Open In Colab\"/></a>"
      ]
    },
    {
      "cell_type": "code",
      "execution_count": null,
      "metadata": {
        "id": "D-nQg_LMbFqk"
      },
      "outputs": [],
      "source": []
    },
    {
      "cell_type": "markdown",
      "source": [
        "Problem 1\n",
        "\n",
        "In a cricket tournament, based on the outcome of a particular match a team gets following points:\n",
        "\n",
        "wins gets 3 points\n",
        "\n",
        "draws gets 1 points\n",
        "\n",
        "losses gets 0 points\n",
        "\n",
        "Team Aravali plays 8 matches in this tournament. It wins 4 matches, loses 3 matches and draws 1. What is the total number of points gained by the Team Aravali?"
      ],
      "metadata": {
        "id": "S0nuczLrbg7a"
      }
    },
    {
      "cell_type": "code",
      "source": [
        "wins=3\n",
        "draw=1\n",
        "loses=0\n",
        "aravali_points= 4*wins + 3*loses + 1*draw\n",
        "print(aravali_points)"
      ],
      "metadata": {
        "colab": {
          "base_uri": "https://localhost:8080/"
        },
        "id": "8rnEjxG4borX",
        "outputId": "cc75f5f7-09aa-4a15-99dd-159567e10be7"
      },
      "execution_count": 3,
      "outputs": [
        {
          "output_type": "stream",
          "name": "stdout",
          "text": [
            "13\n"
          ]
        }
      ]
    },
    {
      "cell_type": "markdown",
      "source": [
        "Problem 2\n",
        "\n",
        "Root of a function f(x)  is defined as the value x  where f(x)=0\n",
        "\n",
        "Consider a quadratic function f(x)= x^2+3x-4\n",
        "\n",
        "Find the value of the function f(x)  at points x=2, x=-1,x=1 ."
      ],
      "metadata": {
        "id": "9t6mCZCGfDXV"
      }
    },
    {
      "cell_type": "code",
      "source": [
        "x=2\n",
        "\n",
        "def f(x):\n",
        "   return x**2 +3*x - 4\n",
        "print(f(x))"
      ],
      "metadata": {
        "colab": {
          "base_uri": "https://localhost:8080/"
        },
        "id": "cUgY6Nr5f_KK",
        "outputId": "8a735274-3315-4680-aebd-b4e66b61d202"
      },
      "execution_count": 8,
      "outputs": [
        {
          "output_type": "stream",
          "name": "stdout",
          "text": [
            "6\n"
          ]
        }
      ]
    },
    {
      "cell_type": "code",
      "source": [
        "x=-1\n",
        "\n",
        "def f(x):\n",
        "   return x**2 +3*x - 4\n",
        "print(f(x))"
      ],
      "metadata": {
        "colab": {
          "base_uri": "https://localhost:8080/"
        },
        "id": "7nBFFyu4nqJC",
        "outputId": "50f98bd4-5962-4ea7-fd33-c7783f81e106"
      },
      "execution_count": 9,
      "outputs": [
        {
          "output_type": "stream",
          "name": "stdout",
          "text": [
            "-6\n"
          ]
        }
      ]
    },
    {
      "cell_type": "code",
      "source": [
        "x=1\n",
        "\n",
        "def f(x):\n",
        "   return x**2 +3*x - 4\n",
        "print(f(x))"
      ],
      "metadata": {
        "colab": {
          "base_uri": "https://localhost:8080/"
        },
        "id": "OHi974c2n9vu",
        "outputId": "7c4108ab-1f3f-4b45-df26-2afe8931e8e9"
      },
      "execution_count": 10,
      "outputs": [
        {
          "output_type": "stream",
          "name": "stdout",
          "text": [
            "0\n"
          ]
        }
      ]
    },
    {
      "cell_type": "markdown",
      "source": [
        "Problem 3\n",
        "\n",
        "A bag contains 45 apples, 65 oranges and 30 bananas. Find the percentage of each type of food items in the bag."
      ],
      "metadata": {
        "id": "gWPDvT61qV7P"
      }
    },
    {
      "cell_type": "code",
      "source": [
        "apple = 45\n",
        "oranges = 65\n",
        "bananas = 30\n",
        "total = 140\n",
        "percentage_apple = 45/140 * 100\n",
        "percentage_oranges = 65/140 * 100\n",
        "percentage_bananas = 30/140 * 100\n",
        "print(percentage_apple)\n",
        "print(percentage_oranges)\n",
        "print(percentage_bananas)\n"
      ],
      "metadata": {
        "colab": {
          "base_uri": "https://localhost:8080/"
        },
        "id": "eUAyAEiHqb99",
        "outputId": "b2b5af94-13e9-4b48-b3a4-8a00ce92b3b7"
      },
      "execution_count": 12,
      "outputs": [
        {
          "output_type": "stream",
          "name": "stdout",
          "text": [
            "32.142857142857146\n",
            "46.42857142857143\n",
            "21.428571428571427\n"
          ]
        }
      ]
    },
    {
      "cell_type": "markdown",
      "source": [
        "Problem 4\n",
        "\n",
        "You were playing a fun guessing game during your school break. There were a total of 100 participants excluding you. Out of these 100 people, 30 were Maths Majors, 45 were Economics Majors and 25 were Physics Majors.\n",
        "\n",
        "The game was divided into three rounds.\n",
        "\n",
        "In the first round, you had to guess the number of Maths Majors and you correctly guessed 20 of them.\n",
        "\n",
        "In the second round, you had to guess the number of Economics Majors and you correctly guessed 30 of them.\n",
        "\n",
        "In the final third round, you had to guess the number of Physics Majors and you correctly guessed 20 of them."
      ],
      "metadata": {
        "id": "coZorS_ksoFU"
      }
    },
    {
      "cell_type": "code",
      "source": [
        "math_majors = 30\n",
        "economic_majors = 45\n",
        "physics_majors= 25\n",
        "correct_math=20\n",
        "correct_economics=30\n",
        "correct_physics =20\n",
        "accuracy_math = 30/20 *100\n",
        "accuracy_economics = 45/30 *100\n",
        "accuracy_physics = 25/20 *100\n",
        "print(accuracy_math)\n",
        "print(accuracy_economics)\n",
        "print(accuracy_physics)"
      ],
      "metadata": {
        "colab": {
          "base_uri": "https://localhost:8080/"
        },
        "id": "vHbKhOdyg10Q",
        "outputId": "c87b66ef-1ec4-46f5-8d25-72d017fdd773"
      },
      "execution_count": 3,
      "outputs": [
        {
          "output_type": "stream",
          "name": "stdout",
          "text": [
            "150.0\n",
            "150.0\n",
            "125.0\n"
          ]
        }
      ]
    }
  ]
}